{
 "cells": [
  {
   "cell_type": "markdown",
   "id": "11bc956a",
   "metadata": {
    "papermill": {
     "duration": 0.004511,
     "end_time": "2025-07-19T06:57:08.822225",
     "exception": false,
     "start_time": "2025-07-19T06:57:08.817714",
     "status": "completed"
    },
    "tags": []
   },
   "source": [
    "**This notebook is an exercise in the [Introduction to Machine Learning](https://www.kaggle.com/learn/intro-to-machine-learning) course.  You can reference the tutorial at [this link](https://www.kaggle.com/dansbecker/your-first-machine-learning-model).**\n",
    "\n",
    "---\n"
   ]
  },
  {
   "cell_type": "markdown",
   "id": "27586963",
   "metadata": {
    "papermill": {
     "duration": 0.003416,
     "end_time": "2025-07-19T06:57:08.829687",
     "exception": false,
     "start_time": "2025-07-19T06:57:08.826271",
     "status": "completed"
    },
    "tags": []
   },
   "source": [
    "## Recap\n",
    "So far, you have loaded your data and reviewed it with the following code. Run this cell to set up your coding environment where the previous step left off."
   ]
  },
  {
   "cell_type": "code",
   "execution_count": 1,
   "id": "fdfb35de",
   "metadata": {
    "execution": {
     "iopub.execute_input": "2025-07-19T06:57:08.838442Z",
     "iopub.status.busy": "2025-07-19T06:57:08.838070Z",
     "iopub.status.idle": "2025-07-19T06:57:12.790301Z",
     "shell.execute_reply": "2025-07-19T06:57:12.789234Z"
    },
    "papermill": {
     "duration": 3.958452,
     "end_time": "2025-07-19T06:57:12.791870",
     "exception": false,
     "start_time": "2025-07-19T06:57:08.833418",
     "status": "completed"
    },
    "tags": []
   },
   "outputs": [
    {
     "name": "stdout",
     "output_type": "stream",
     "text": [
      "Setup Complete\n"
     ]
    }
   ],
   "source": [
    "# Code you have previously used to load data\n",
    "import pandas as pd\n",
    "\n",
    "# Path of the file to read\n",
    "iowa_file_path = '../input/home-data-for-ml-course/train.csv'\n",
    "\n",
    "home_data = pd.read_csv(iowa_file_path)\n",
    "\n",
    "# Set up code checking\n",
    "from learntools.core import binder\n",
    "binder.bind(globals())\n",
    "from learntools.machine_learning.ex3 import *\n",
    "\n",
    "print(\"Setup Complete\")"
   ]
  },
  {
   "cell_type": "markdown",
   "id": "8bbaaddd",
   "metadata": {
    "papermill": {
     "duration": 0.003859,
     "end_time": "2025-07-19T06:57:12.799559",
     "exception": false,
     "start_time": "2025-07-19T06:57:12.795700",
     "status": "completed"
    },
    "tags": []
   },
   "source": [
    "# Exercises\n",
    "\n",
    "## Step 1: Specify Prediction Target\n",
    "Select the target variable, which corresponds to the sales price. Save this to a new variable called `y`. You'll need to print a list of the columns to find the name of the column you need.\n"
   ]
  },
  {
   "cell_type": "code",
   "execution_count": 2,
   "id": "7d61093c",
   "metadata": {
    "execution": {
     "iopub.execute_input": "2025-07-19T06:57:12.809922Z",
     "iopub.status.busy": "2025-07-19T06:57:12.809336Z",
     "iopub.status.idle": "2025-07-19T06:57:12.814350Z",
     "shell.execute_reply": "2025-07-19T06:57:12.813376Z"
    },
    "papermill": {
     "duration": 0.012274,
     "end_time": "2025-07-19T06:57:12.816041",
     "exception": false,
     "start_time": "2025-07-19T06:57:12.803767",
     "status": "completed"
    },
    "tags": []
   },
   "outputs": [],
   "source": [
    "# print the list of columns in the dataset to find the name of the prediction target\n"
   ]
  },
  {
   "cell_type": "code",
   "execution_count": 3,
   "id": "54c7ed69",
   "metadata": {
    "execution": {
     "iopub.execute_input": "2025-07-19T06:57:12.825271Z",
     "iopub.status.busy": "2025-07-19T06:57:12.824949Z",
     "iopub.status.idle": "2025-07-19T06:57:12.838491Z",
     "shell.execute_reply": "2025-07-19T06:57:12.837509Z"
    },
    "papermill": {
     "duration": 0.02026,
     "end_time": "2025-07-19T06:57:12.840378",
     "exception": false,
     "start_time": "2025-07-19T06:57:12.820118",
     "status": "completed"
    },
    "tags": []
   },
   "outputs": [
    {
     "data": {
      "application/javascript": [
       "parent.postMessage({\"jupyterEvent\": \"custom.exercise_interaction\", \"data\": {\"outcomeType\": 1, \"valueTowardsCompletion\": 0.25, \"interactionType\": 1, \"questionType\": 2, \"questionId\": \"1_SetTarget\", \"learnToolsVersion\": \"0.3.5\", \"failureMessage\": \"\", \"exceptionClass\": \"\", \"trace\": \"\"}}, \"*\")"
      ],
      "text/plain": [
       "<IPython.core.display.Javascript object>"
      ]
     },
     "metadata": {},
     "output_type": "display_data"
    },
    {
     "data": {
      "text/markdown": [
       "<span style=\"color:#33cc33\">Correct</span>"
      ],
      "text/plain": [
       "Correct"
      ]
     },
     "metadata": {},
     "output_type": "display_data"
    }
   ],
   "source": [
    "y = home_data.SalePrice\n",
    "\n",
    "# Check your answer\n",
    "step_1.check()\n"
   ]
  },
  {
   "cell_type": "code",
   "execution_count": 4,
   "id": "850430b5",
   "metadata": {
    "execution": {
     "iopub.execute_input": "2025-07-19T06:57:12.851273Z",
     "iopub.status.busy": "2025-07-19T06:57:12.850865Z",
     "iopub.status.idle": "2025-07-19T06:57:12.854909Z",
     "shell.execute_reply": "2025-07-19T06:57:12.854000Z"
    },
    "papermill": {
     "duration": 0.011663,
     "end_time": "2025-07-19T06:57:12.856445",
     "exception": false,
     "start_time": "2025-07-19T06:57:12.844782",
     "status": "completed"
    },
    "tags": []
   },
   "outputs": [],
   "source": [
    "# The lines below will show you a hint or the solution.\n",
    "# step_1.hint() \n",
    "# step_1.solution()"
   ]
  },
  {
   "cell_type": "markdown",
   "id": "0893b691",
   "metadata": {
    "papermill": {
     "duration": 0.003742,
     "end_time": "2025-07-19T06:57:12.864504",
     "exception": false,
     "start_time": "2025-07-19T06:57:12.860762",
     "status": "completed"
    },
    "tags": []
   },
   "source": [
    "## Step 2: Create X\n",
    "Now you will create a DataFrame called `X` holding the predictive features.\n",
    "\n",
    "Since you want only some columns from the original data, you'll first create a list with the names of the columns you want in `X`.\n",
    "\n",
    "You'll use just the following columns in the list (you can copy and paste the whole list to save some typing, though you'll still need to add quotes):\n",
    "  * LotArea\n",
    "  * YearBuilt\n",
    "  * 1stFlrSF\n",
    "  * 2ndFlrSF\n",
    "  * FullBath\n",
    "  * BedroomAbvGr\n",
    "  * TotRmsAbvGrd\n",
    "\n",
    "After you've created that list of features, use it to create the DataFrame that you'll use to fit the model."
   ]
  },
  {
   "cell_type": "code",
   "execution_count": 5,
   "id": "00da57aa",
   "metadata": {
    "execution": {
     "iopub.execute_input": "2025-07-19T06:57:12.875456Z",
     "iopub.status.busy": "2025-07-19T06:57:12.875107Z",
     "iopub.status.idle": "2025-07-19T06:57:12.886659Z",
     "shell.execute_reply": "2025-07-19T06:57:12.885880Z"
    },
    "papermill": {
     "duration": 0.018646,
     "end_time": "2025-07-19T06:57:12.888009",
     "exception": false,
     "start_time": "2025-07-19T06:57:12.869363",
     "status": "completed"
    },
    "tags": []
   },
   "outputs": [
    {
     "data": {
      "application/javascript": [
       "parent.postMessage({\"jupyterEvent\": \"custom.exercise_interaction\", \"data\": {\"outcomeType\": 1, \"valueTowardsCompletion\": 0.25, \"interactionType\": 1, \"questionType\": 2, \"questionId\": \"2_SelectPredictionData\", \"learnToolsVersion\": \"0.3.5\", \"failureMessage\": \"\", \"exceptionClass\": \"\", \"trace\": \"\"}}, \"*\")"
      ],
      "text/plain": [
       "<IPython.core.display.Javascript object>"
      ]
     },
     "metadata": {},
     "output_type": "display_data"
    },
    {
     "data": {
      "text/markdown": [
       "<span style=\"color:#33cc33\">Correct</span>"
      ],
      "text/plain": [
       "Correct"
      ]
     },
     "metadata": {},
     "output_type": "display_data"
    }
   ],
   "source": [
    "# Create the list of features below\n",
    "feature_names = ['LotArea','YearBuilt','1stFlrSF','2ndFlrSF','FullBath','BedroomAbvGr','TotRmsAbvGrd']\n",
    "\n",
    "# Select data corresponding to features in feature_names\n",
    "X = home_data[feature_names]\n",
    "\n",
    "# Check your answer\n",
    "step_2.check()"
   ]
  },
  {
   "cell_type": "code",
   "execution_count": 6,
   "id": "b60fd995",
   "metadata": {
    "execution": {
     "iopub.execute_input": "2025-07-19T06:57:12.897654Z",
     "iopub.status.busy": "2025-07-19T06:57:12.897335Z",
     "iopub.status.idle": "2025-07-19T06:57:12.901441Z",
     "shell.execute_reply": "2025-07-19T06:57:12.900686Z"
    },
    "papermill": {
     "duration": 0.010795,
     "end_time": "2025-07-19T06:57:12.902939",
     "exception": false,
     "start_time": "2025-07-19T06:57:12.892144",
     "status": "completed"
    },
    "tags": []
   },
   "outputs": [],
   "source": [
    "# step_2.hint()\n",
    "# step_2.solution()"
   ]
  },
  {
   "cell_type": "markdown",
   "id": "15a20fd4",
   "metadata": {
    "papermill": {
     "duration": 0.003921,
     "end_time": "2025-07-19T06:57:12.911406",
     "exception": false,
     "start_time": "2025-07-19T06:57:12.907485",
     "status": "completed"
    },
    "tags": []
   },
   "source": [
    "## Review Data\n",
    "Before building a model, take a quick look at **X** to verify it looks sensible"
   ]
  },
  {
   "cell_type": "code",
   "execution_count": 7,
   "id": "768a1c1b",
   "metadata": {
    "execution": {
     "iopub.execute_input": "2025-07-19T06:57:12.920955Z",
     "iopub.status.busy": "2025-07-19T06:57:12.920618Z",
     "iopub.status.idle": "2025-07-19T06:57:12.924531Z",
     "shell.execute_reply": "2025-07-19T06:57:12.923721Z"
    },
    "papermill": {
     "duration": 0.010339,
     "end_time": "2025-07-19T06:57:12.925845",
     "exception": false,
     "start_time": "2025-07-19T06:57:12.915506",
     "status": "completed"
    },
    "tags": []
   },
   "outputs": [],
   "source": [
    "# Review data\n",
    "# print description or statistics from X\n",
    "#print(_)\n",
    "\n",
    "# print the top few lines\n",
    "#print(_)"
   ]
  },
  {
   "cell_type": "markdown",
   "id": "dd9f4bf0",
   "metadata": {
    "papermill": {
     "duration": 0.003694,
     "end_time": "2025-07-19T06:57:12.933713",
     "exception": false,
     "start_time": "2025-07-19T06:57:12.930019",
     "status": "completed"
    },
    "tags": []
   },
   "source": [
    "## Step 3: Specify and Fit Model\n",
    "Create a `DecisionTreeRegressor` and save it iowa_model. Ensure you've done the relevant import from sklearn to run this command.\n",
    "\n",
    "Then fit the model you just created using the data in `X` and `y` that you saved above."
   ]
  },
  {
   "cell_type": "code",
   "execution_count": 8,
   "id": "7c7151ef",
   "metadata": {
    "execution": {
     "iopub.execute_input": "2025-07-19T06:57:12.942756Z",
     "iopub.status.busy": "2025-07-19T06:57:12.942431Z",
     "iopub.status.idle": "2025-07-19T06:57:12.959883Z",
     "shell.execute_reply": "2025-07-19T06:57:12.958833Z"
    },
    "papermill": {
     "duration": 0.023926,
     "end_time": "2025-07-19T06:57:12.961510",
     "exception": false,
     "start_time": "2025-07-19T06:57:12.937584",
     "status": "completed"
    },
    "tags": []
   },
   "outputs": [
    {
     "data": {
      "application/javascript": [
       "parent.postMessage({\"jupyterEvent\": \"custom.exercise_interaction\", \"data\": {\"outcomeType\": 1, \"valueTowardsCompletion\": 0.25, \"interactionType\": 1, \"questionType\": 2, \"questionId\": \"3_CreateModel\", \"learnToolsVersion\": \"0.3.5\", \"failureMessage\": \"\", \"exceptionClass\": \"\", \"trace\": \"\"}}, \"*\")"
      ],
      "text/plain": [
       "<IPython.core.display.Javascript object>"
      ]
     },
     "metadata": {},
     "output_type": "display_data"
    },
    {
     "data": {
      "text/markdown": [
       "<span style=\"color:#33cc33\">Correct</span>"
      ],
      "text/plain": [
       "Correct"
      ]
     },
     "metadata": {},
     "output_type": "display_data"
    }
   ],
   "source": [
    "# from _ import _\n",
    "from sklearn.tree import DecisionTreeRegressor\n",
    "#specify the model. \n",
    "#For model reproducibility, set a numeric value for random_state when specifying the model\n",
    "iowa_model = DecisionTreeRegressor(random_state=1)\n",
    "\n",
    "# Fit the model\n",
    "iowa_model.fit(X,y)\n",
    "\n",
    "# Check your answer\n",
    "step_3.check()"
   ]
  },
  {
   "cell_type": "code",
   "execution_count": 9,
   "id": "9c8f259e",
   "metadata": {
    "execution": {
     "iopub.execute_input": "2025-07-19T06:57:12.972204Z",
     "iopub.status.busy": "2025-07-19T06:57:12.971893Z",
     "iopub.status.idle": "2025-07-19T06:57:12.976374Z",
     "shell.execute_reply": "2025-07-19T06:57:12.975479Z"
    },
    "papermill": {
     "duration": 0.011416,
     "end_time": "2025-07-19T06:57:12.977878",
     "exception": false,
     "start_time": "2025-07-19T06:57:12.966462",
     "status": "completed"
    },
    "tags": []
   },
   "outputs": [],
   "source": [
    "# step_3.hint()\n",
    "# step_3.solution()"
   ]
  },
  {
   "cell_type": "markdown",
   "id": "ab61ca91",
   "metadata": {
    "papermill": {
     "duration": 0.004095,
     "end_time": "2025-07-19T06:57:12.986267",
     "exception": false,
     "start_time": "2025-07-19T06:57:12.982172",
     "status": "completed"
    },
    "tags": []
   },
   "source": [
    "## Step 4: Make Predictions\n",
    "Make predictions with the model's `predict` command using `X` as the data. Save the results to a variable called `predictions`."
   ]
  },
  {
   "cell_type": "code",
   "execution_count": 10,
   "id": "d71a20b0",
   "metadata": {
    "execution": {
     "iopub.execute_input": "2025-07-19T06:57:12.995957Z",
     "iopub.status.busy": "2025-07-19T06:57:12.995606Z",
     "iopub.status.idle": "2025-07-19T06:57:13.008724Z",
     "shell.execute_reply": "2025-07-19T06:57:13.007823Z"
    },
    "papermill": {
     "duration": 0.019872,
     "end_time": "2025-07-19T06:57:13.010289",
     "exception": false,
     "start_time": "2025-07-19T06:57:12.990417",
     "status": "completed"
    },
    "tags": []
   },
   "outputs": [
    {
     "name": "stdout",
     "output_type": "stream",
     "text": [
      "[208500. 181500. 223500. ... 266500. 142125. 147500.]\n"
     ]
    },
    {
     "data": {
      "application/javascript": [
       "parent.postMessage({\"jupyterEvent\": \"custom.exercise_interaction\", \"data\": {\"outcomeType\": 1, \"valueTowardsCompletion\": 0.25, \"interactionType\": 1, \"questionType\": 2, \"questionId\": \"4_MakePredictions\", \"learnToolsVersion\": \"0.3.5\", \"failureMessage\": \"\", \"exceptionClass\": \"\", \"trace\": \"\"}}, \"*\")"
      ],
      "text/plain": [
       "<IPython.core.display.Javascript object>"
      ]
     },
     "metadata": {},
     "output_type": "display_data"
    },
    {
     "data": {
      "text/markdown": [
       "<span style=\"color:#33cc33\">Correct</span>"
      ],
      "text/plain": [
       "Correct"
      ]
     },
     "metadata": {},
     "output_type": "display_data"
    }
   ],
   "source": [
    "predictions = iowa_model.predict(X)\n",
    "print(predictions)\n",
    "\n",
    "# Check your answer\n",
    "step_4.check()"
   ]
  },
  {
   "cell_type": "code",
   "execution_count": 11,
   "id": "1480de14",
   "metadata": {
    "execution": {
     "iopub.execute_input": "2025-07-19T06:57:13.021758Z",
     "iopub.status.busy": "2025-07-19T06:57:13.021457Z",
     "iopub.status.idle": "2025-07-19T06:57:13.025505Z",
     "shell.execute_reply": "2025-07-19T06:57:13.024732Z"
    },
    "papermill": {
     "duration": 0.012028,
     "end_time": "2025-07-19T06:57:13.026929",
     "exception": false,
     "start_time": "2025-07-19T06:57:13.014901",
     "status": "completed"
    },
    "tags": []
   },
   "outputs": [],
   "source": [
    "# step_4.hint()\n",
    "# step_4.solution()"
   ]
  },
  {
   "cell_type": "markdown",
   "id": "2b11c6d7",
   "metadata": {
    "papermill": {
     "duration": 0.004214,
     "end_time": "2025-07-19T06:57:13.036095",
     "exception": false,
     "start_time": "2025-07-19T06:57:13.031881",
     "status": "completed"
    },
    "tags": []
   },
   "source": [
    "## Think About Your Results\n",
    "\n",
    "Use the `head` method to compare the top few predictions to the actual home values (in `y`) for those same homes. Anything surprising?\n"
   ]
  },
  {
   "cell_type": "code",
   "execution_count": 12,
   "id": "e4599b13",
   "metadata": {
    "execution": {
     "iopub.execute_input": "2025-07-19T06:57:13.046342Z",
     "iopub.status.busy": "2025-07-19T06:57:13.046038Z",
     "iopub.status.idle": "2025-07-19T06:57:13.053329Z",
     "shell.execute_reply": "2025-07-19T06:57:13.052355Z"
    },
    "papermill": {
     "duration": 0.014496,
     "end_time": "2025-07-19T06:57:13.055090",
     "exception": false,
     "start_time": "2025-07-19T06:57:13.040594",
     "status": "completed"
    },
    "tags": []
   },
   "outputs": [
    {
     "data": {
      "text/plain": [
       "0    208500\n",
       "1    181500\n",
       "2    223500\n",
       "3    140000\n",
       "4    250000\n",
       "Name: SalePrice, dtype: int64"
      ]
     },
     "execution_count": 12,
     "metadata": {},
     "output_type": "execute_result"
    }
   ],
   "source": [
    "# You can write code in this cell\n",
    "y.head()\n"
   ]
  },
  {
   "cell_type": "markdown",
   "id": "3b08d57a",
   "metadata": {
    "papermill": {
     "duration": 0.004245,
     "end_time": "2025-07-19T06:57:13.064104",
     "exception": false,
     "start_time": "2025-07-19T06:57:13.059859",
     "status": "completed"
    },
    "tags": []
   },
   "source": [
    "It's natural to ask how accurate the model's predictions will be and how you can improve that. That will be you're next step.\n",
    "\n",
    "# Keep Going\n",
    "\n",
    "You are ready for **[Model Validation](https://www.kaggle.com/dansbecker/model-validation).**\n"
   ]
  },
  {
   "cell_type": "markdown",
   "id": "1247bf16",
   "metadata": {
    "papermill": {
     "duration": 0.004658,
     "end_time": "2025-07-19T06:57:13.073239",
     "exception": false,
     "start_time": "2025-07-19T06:57:13.068581",
     "status": "completed"
    },
    "tags": []
   },
   "source": [
    "---\n",
    "\n",
    "\n",
    "\n",
    "\n",
    "*Have questions or comments? Visit the [course discussion forum](https://www.kaggle.com/learn/intro-to-machine-learning/discussion) to chat with other learners.*"
   ]
  }
 ],
 "metadata": {
  "kaggle": {
   "accelerator": "none",
   "dataSources": [
    {
     "databundleVersionId": 111096,
     "sourceId": 10211,
     "sourceType": "competition"
    },
    {
     "datasetId": 11167,
     "sourceId": 15520,
     "sourceType": "datasetVersion"
    },
    {
     "datasetId": 2709,
     "sourceId": 38454,
     "sourceType": "datasetVersion"
    }
   ],
   "isGpuEnabled": false,
   "isInternetEnabled": false,
   "language": "python",
   "sourceType": "notebook"
  },
  "kernelspec": {
   "display_name": "Python 3",
   "language": "python",
   "name": "python3"
  },
  "language_info": {
   "codemirror_mode": {
    "name": "ipython",
    "version": 3
   },
   "file_extension": ".py",
   "mimetype": "text/x-python",
   "name": "python",
   "nbconvert_exporter": "python",
   "pygments_lexer": "ipython3",
   "version": "3.11.13"
  },
  "papermill": {
   "default_parameters": {},
   "duration": 9.778923,
   "end_time": "2025-07-19T06:57:13.798667",
   "environment_variables": {},
   "exception": null,
   "input_path": "__notebook__.ipynb",
   "output_path": "__notebook__.ipynb",
   "parameters": {},
   "start_time": "2025-07-19T06:57:04.019744",
   "version": "2.6.0"
  }
 },
 "nbformat": 4,
 "nbformat_minor": 5
}
